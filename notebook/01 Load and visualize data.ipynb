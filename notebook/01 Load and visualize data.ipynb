{
 "cells": [
  {
   "cell_type": "code",
   "execution_count": 2,
   "id": "567ebcab-d2bd-4010-bdd8-504d32abed32",
   "metadata": {},
   "outputs": [],
   "source": [
    "import sys\n",
    "sys.path.append(\"../src\")\n",
    "import matplotlib.pyplot as plt\n",
    "import pickle\n",
    "import torch\n",
    "from torch_geometric.data import Data\n",
    "from torch_geometric.utils import subgraph\n",
    "\n",
    "%load_ext autoreload\n",
    "%autoreload 2\n",
    "\n",
    "from data import *\n",
    "from loader import *\n",
    "from visualize import plot_merger_tree\n",
    "from typing import List\n",
    "from collections import deque\n",
    "import networkx as nx\n",
    "\n",
    "from pathlib import Path\n",
    "BASE_DIR = Path(\"../\")\n",
    "RESULTS_DIR = Path(BASE_DIR / \"results\")"
   ]
  },
  {
   "cell_type": "markdown",
   "id": "60389ad7-29ac-48e0-9490-ec9bac6ee6c0",
   "metadata": {},
   "source": [
    "# Prepare data"
   ]
  },
  {
   "cell_type": "code",
   "execution_count": 2,
   "id": "465c757a-40a3-4b13-a7ea-e9bc92523d0c",
   "metadata": {},
   "outputs": [
    {
     "name": "stderr",
     "output_type": "stream",
     "text": [
      "/home/john/research/assembly-vs-environment/notebook/../src/data.py:94: RuntimeWarning: divide by zero encountered in log10\n",
      "  np.column_stack([halo_id, subhalo_flag, np.arange(len(subhalo_stellarmass)), subhalo_pos, subhalo_vel, subhalo_n_stellar_particles, subhalo_gasmass, subhalo_stellarmass, subhalo_halomass, subhalo_stellarhalfmassradius, subhalo_vmax, np.log10(subhalo_MRhalf), np.log10(subhalo_MRvmax), np.log10(subhalo_MR2half), np.log10(subhalo_RMhalf), np.log10(subhalo_spin), np.log10(subhalo_Vdisp), np.log10(subhalo_VmaxRad), np.log10(subhalo_offset)]),\n",
      "/home/john/miniforge3/envs/pyg/lib/python3.11/site-packages/pandas/core/arraylike.py:399: RuntimeWarning: divide by zero encountered in log10\n",
      "  result = getattr(ufunc, method)(*inputs, **kwargs)\n",
      "/home/john/miniforge3/envs/pyg/lib/python3.11/site-packages/pandas/core/arraylike.py:399: RuntimeWarning: divide by zero encountered in log10\n",
      "  result = getattr(ufunc, method)(*inputs, **kwargs)\n",
      "/home/john/miniforge3/envs/pyg/lib/python3.11/site-packages/pandas/core/arraylike.py:399: RuntimeWarning: divide by zero encountered in log10\n",
      "  result = getattr(ufunc, method)(*inputs, **kwargs)\n",
      "/home/john/miniforge3/envs/pyg/lib/python3.11/site-packages/pandas/core/arraylike.py:399: RuntimeWarning: divide by zero encountered in log10\n",
      "  result = getattr(ufunc, method)(*inputs, **kwargs)\n",
      "/home/john/miniforge3/envs/pyg/lib/python3.11/site-packages/pandas/core/arraylike.py:399: RuntimeWarning: divide by zero encountered in log10\n",
      "  result = getattr(ufunc, method)(*inputs, **kwargs)\n",
      "/home/john/miniforge3/envs/pyg/lib/python3.11/site-packages/pandas/core/arraylike.py:399: RuntimeWarning: divide by zero encountered in log10\n",
      "  result = getattr(ufunc, method)(*inputs, **kwargs)\n",
      "/home/john/research/assembly-vs-environment/notebook/../src/data.py:94: RuntimeWarning: divide by zero encountered in log10\n",
      "  np.column_stack([halo_id, subhalo_flag, np.arange(len(subhalo_stellarmass)), subhalo_pos, subhalo_vel, subhalo_n_stellar_particles, subhalo_gasmass, subhalo_stellarmass, subhalo_halomass, subhalo_stellarhalfmassradius, subhalo_vmax, np.log10(subhalo_MRhalf), np.log10(subhalo_MRvmax), np.log10(subhalo_MR2half), np.log10(subhalo_RMhalf), np.log10(subhalo_spin), np.log10(subhalo_Vdisp), np.log10(subhalo_VmaxRad), np.log10(subhalo_offset)]),\n",
      "/home/john/miniforge3/envs/pyg/lib/python3.11/site-packages/pandas/core/arraylike.py:399: RuntimeWarning: divide by zero encountered in log10\n",
      "  result = getattr(ufunc, method)(*inputs, **kwargs)\n",
      "/home/john/miniforge3/envs/pyg/lib/python3.11/site-packages/pandas/core/arraylike.py:399: RuntimeWarning: divide by zero encountered in log10\n",
      "  result = getattr(ufunc, method)(*inputs, **kwargs)\n",
      "/home/john/miniforge3/envs/pyg/lib/python3.11/site-packages/pandas/core/arraylike.py:399: RuntimeWarning: divide by zero encountered in log10\n",
      "  result = getattr(ufunc, method)(*inputs, **kwargs)\n"
     ]
    },
    {
     "data": {
      "text/plain": [
       "132953"
      ]
     },
     "execution_count": 2,
     "metadata": {},
     "output_type": "execute_result"
    }
   ],
   "source": [
    "# from data.py\n",
    "subhalos = prepare_subhalos()\n",
    "len(subhalos)"
   ]
  },
  {
   "cell_type": "code",
   "execution_count": 3,
   "id": "9715b5f5-4336-4c60-898a-e6aca357c74a",
   "metadata": {},
   "outputs": [],
   "source": [
    "subhalos.to_parquet(RESULTS_DIR / \"subhalos.parquet\")"
   ]
  },
  {
   "cell_type": "markdown",
   "id": "3ad5df23-984c-484f-8b9a-d2ba4d55c994",
   "metadata": {},
   "source": [
    "## Env"
   ]
  },
  {
   "cell_type": "code",
   "execution_count": 8,
   "id": "c3dc64a3-ed1c-4c7e-ae5b-b1ae977c52d7",
   "metadata": {},
   "outputs": [
    {
     "name": "stderr",
     "output_type": "stream",
     "text": [
      "/home/john/research/assembly-vs-environment/notebook/../src/loader.py:121: UserWarning: To copy construct from a tensor, it is recommended to use sourceTensor.clone().detach() or sourceTensor.clone().detach().requires_grad_(True), rather than torch.tensor(sourceTensor).\n",
      "  index=torch.tensor(target_nodes),\n"
     ]
    },
    {
     "data": {
      "text/plain": [
       "Data(x=[132953, 11], edge_index=[2, 6653247], edge_attr=[6653247, 6], y=[132953, 2], pos=[132953, 3], vel=[132953, 3], is_central=[132953, 1], x_hydro=[132953, 2], pos_hydro=[132953, 3], vel_hydro=[132953, 3], halfmassradius=[132953, 1], subhalo_id=[132953], overdensity=[132953])"
      ]
     },
     "execution_count": 8,
     "metadata": {},
     "output_type": "execute_result"
    }
   ],
   "source": [
    "# from loader.py\n",
    "env_data = make_cosmic_graph(subhalos, 3) \n",
    "env_data"
   ]
  },
  {
   "cell_type": "code",
   "execution_count": 9,
   "id": "01e3eb57-c533-422f-b84f-8caffc5329e2",
   "metadata": {},
   "outputs": [],
   "source": [
    "with open(RESULTS_DIR / \"cosmic_graphs_3Mpc.pkl\", \"wb\") as f:\n",
    "    pickle.dump(env_data, f)"
   ]
  },
  {
   "cell_type": "markdown",
   "id": "7151963f-3261-4edb-9741-d65c855a37a6",
   "metadata": {},
   "source": [
    "## Trees"
   ]
  },
  {
   "cell_type": "code",
   "execution_count": 11,
   "id": "2cc12ced-7e37-4f61-8110-1258be9cf2ea",
   "metadata": {},
   "outputs": [
    {
     "name": "stderr",
     "output_type": "stream",
     "text": [
      "/home/john/research/assembly-vs-environment/notebook/../src/data.py:227: RuntimeWarning: divide by zero encountered in log10\n",
      "  df[\"subhalo_MRhalf\"] = np.log10(subhalo_MRhalf)\n",
      "/home/john/research/assembly-vs-environment/notebook/../src/data.py:229: RuntimeWarning: divide by zero encountered in log10\n",
      "  df[\"subhalo_MR2half\"] = np.log10(subhalo_MR2half)\n",
      "/home/john/research/assembly-vs-environment/notebook/../src/data.py:227: RuntimeWarning: divide by zero encountered in log10\n",
      "  df[\"subhalo_MRhalf\"] = np.log10(subhalo_MRhalf)\n",
      "/home/john/research/assembly-vs-environment/notebook/../src/data.py:229: RuntimeWarning: divide by zero encountered in log10\n",
      "  df[\"subhalo_MR2half\"] = np.log10(subhalo_MR2half)\n",
      "/home/john/research/assembly-vs-environment/notebook/../src/data.py:227: RuntimeWarning: divide by zero encountered in log10\n",
      "  df[\"subhalo_MRhalf\"] = np.log10(subhalo_MRhalf)\n",
      "/home/john/research/assembly-vs-environment/notebook/../src/data.py:229: RuntimeWarning: divide by zero encountered in log10\n",
      "  df[\"subhalo_MR2half\"] = np.log10(subhalo_MR2half)\n",
      "/home/john/research/assembly-vs-environment/notebook/../src/data.py:227: RuntimeWarning: divide by zero encountered in log10\n",
      "  df[\"subhalo_MRhalf\"] = np.log10(subhalo_MRhalf)\n",
      "/home/john/research/assembly-vs-environment/notebook/../src/data.py:229: RuntimeWarning: divide by zero encountered in log10\n",
      "  df[\"subhalo_MR2half\"] = np.log10(subhalo_MR2half)\n",
      "/home/john/research/assembly-vs-environment/notebook/../src/data.py:227: RuntimeWarning: divide by zero encountered in log10\n",
      "  df[\"subhalo_MRhalf\"] = np.log10(subhalo_MRhalf)\n",
      "/home/john/research/assembly-vs-environment/notebook/../src/data.py:229: RuntimeWarning: divide by zero encountered in log10\n",
      "  df[\"subhalo_MR2half\"] = np.log10(subhalo_MR2half)\n",
      "/home/john/research/assembly-vs-environment/notebook/../src/data.py:234: RuntimeWarning: divide by zero encountered in log10\n",
      "  df[\"subhalo_offset\"] = np.log10(subhalo_offset)\n",
      "/home/john/research/assembly-vs-environment/notebook/../src/data.py:227: RuntimeWarning: divide by zero encountered in log10\n",
      "  df[\"subhalo_MRhalf\"] = np.log10(subhalo_MRhalf)\n",
      "/home/john/research/assembly-vs-environment/notebook/../src/data.py:229: RuntimeWarning: divide by zero encountered in log10\n",
      "  df[\"subhalo_MR2half\"] = np.log10(subhalo_MR2half)\n",
      "/home/john/research/assembly-vs-environment/notebook/../src/data.py:227: RuntimeWarning: divide by zero encountered in log10\n",
      "  df[\"subhalo_MRhalf\"] = np.log10(subhalo_MRhalf)\n",
      "/home/john/research/assembly-vs-environment/notebook/../src/data.py:229: RuntimeWarning: divide by zero encountered in log10\n",
      "  df[\"subhalo_MR2half\"] = np.log10(subhalo_MR2half)\n",
      "/home/john/research/assembly-vs-environment/notebook/../src/data.py:227: RuntimeWarning: divide by zero encountered in log10\n",
      "  df[\"subhalo_MRhalf\"] = np.log10(subhalo_MRhalf)\n",
      "/home/john/research/assembly-vs-environment/notebook/../src/data.py:229: RuntimeWarning: divide by zero encountered in log10\n",
      "  df[\"subhalo_MR2half\"] = np.log10(subhalo_MR2half)\n",
      "/home/john/research/assembly-vs-environment/notebook/../src/data.py:227: RuntimeWarning: divide by zero encountered in log10\n",
      "  df[\"subhalo_MRhalf\"] = np.log10(subhalo_MRhalf)\n",
      "/home/john/research/assembly-vs-environment/notebook/../src/data.py:229: RuntimeWarning: divide by zero encountered in log10\n",
      "  df[\"subhalo_MR2half\"] = np.log10(subhalo_MR2half)\n"
     ]
    }
   ],
   "source": [
    "# from data -- takes like 5 min (and 40+GB of memory)\n",
    "all_trees = load_trees()\n"
   ]
  },
  {
   "cell_type": "code",
   "execution_count": null,
   "id": "102e108b-89ac-45f7-842c-b6ec2e036d1d",
   "metadata": {},
   "outputs": [],
   "source": [
    "# from loader.py\n",
    "tree_data = make_merger_tree_graphs(all_trees, subhalos)\n",
    "len(tree_data)"
   ]
  },
  {
   "cell_type": "markdown",
   "id": "34ed9b00-3b9c-46b4-a1d3-a7a50bdcfe3d",
   "metadata": {},
   "source": [
    "N_not_in_subhalo_cat = 5396\n",
    "\n",
    "N_is_satellite = 0\n",
    "\n",
    "N_bad_stellar_mass = 5437"
   ]
  },
  {
   "cell_type": "code",
   "execution_count": 13,
   "id": "7fdd54e3-33bf-491e-882f-2789d0582a55",
   "metadata": {},
   "outputs": [],
   "source": [
    "with open(RESULTS_DIR / \"merger_trees.pkl\", \"wb\") as f:\n",
    "    pickle.dump(tree_data, f)"
   ]
  },
  {
   "cell_type": "markdown",
   "id": "0fbd6be9-93c9-413c-9af5-5c0e997b7be9",
   "metadata": {},
   "source": [
    "# Bonsai: Merger Tree Trimming\n",
    "\n",
    "Trim the trees by removing secular evolution, i.e., remove nodes with exactly one incoming and one outgoing node, and then rewire the edges around them."
   ]
  },
  {
   "cell_type": "code",
   "execution_count": 44,
   "id": "c73762f4-c5bb-431a-812d-899f2b481a41",
   "metadata": {},
   "outputs": [],
   "source": [
    "\n",
    "def trim_merger_trees(graphs: List[Data]) -> List[Data]:\n",
    "    \"\"\"\n",
    "    Remove nodes with exactly one incoming and one outgoing edge from merger trees.\n",
    "    \"\"\"\n",
    "    trimmed_graphs = []\n",
    "\n",
    "    for graph in tqdm.tqdm(graphs):\n",
    "        # find nodes to remove\n",
    "        num_nodes = graph.num_nodes\n",
    "        row, col = graph.edge_index\n",
    "\n",
    "        out_degree = torch.zeros(num_nodes, dtype=torch.long, device=row.device)\n",
    "        out_degree.scatter_add_(0, row, torch.ones_like(row))\n",
    "        in_degree = torch.zeros(num_nodes, dtype=torch.long, device=col.device)\n",
    "        in_degree.scatter_add_(0, col, torch.ones_like(col))\n",
    "\n",
    "        nodes_to_remove = (in_degree == 1) & (out_degree == 1)\n",
    "\n",
    "        # skip if no trimming required\n",
    "        if not nodes_to_remove.any():\n",
    "            trimmed_graphs.append(graph.clone())\n",
    "            continue\n",
    "\n",
    "        # use bfs to rewire the graph\n",
    "        nodes_to_keep_mask = ~nodes_to_remove\n",
    "        nodes_to_keep_indices = torch.where(nodes_to_keep_mask)[0]\n",
    "        \n",
    "        # create an adjacency list for efficient traversal\n",
    "        adj = [[] for _ in range(num_nodes)]\n",
    "        for i, j in graph.edge_index.t().tolist():\n",
    "            adj[i].append(j)\n",
    "\n",
    "        new_edges = []\n",
    "        # find next reachable node\n",
    "        for start_node in nodes_to_keep_indices.tolist():\n",
    "            q = deque(adj[start_node])\n",
    "            visited = set(adj[start_node])\n",
    "\n",
    "            while q:\n",
    "                current_node = q.popleft()\n",
    "                # if this is a node to keep, we've found a new edge\n",
    "                if nodes_to_keep_mask[current_node]:\n",
    "                    new_edges.append((start_node, current_node))\n",
    "                # otherwise, continue the search down this path\n",
    "                else:\n",
    "                    for neighbor in adj[current_node]:\n",
    "                        if neighbor not in visited:\n",
    "                            visited.add(neighbor)\n",
    "                            q.append(neighbor)\n",
    "        \n",
    "        # handle this case if no edges left\n",
    "        if not new_edges:\n",
    "            new_edge_index = torch.empty((2, 0), dtype=torch.long, device=graph.edge_index.device)\n",
    "        else:\n",
    "            new_edge_index = torch.tensor(new_edges, device=graph.edge_index.device).t()\n",
    "        \n",
    "        # build a mapping tensor for fast, vectorized index conversion (old_idx -> new_idx)\n",
    "        remap_tensor = torch.full((num_nodes,), -1, dtype=torch.long, device=row.device)\n",
    "        remap_tensor[nodes_to_keep_indices] = torch.arange(len(nodes_to_keep_indices), device=row.device)\n",
    "        \n",
    "        final_edge_index = remap_tensor[new_edge_index]\n",
    "\n",
    "        # create the new Data object\n",
    "        trimmed_graph = Data(\n",
    "            x=graph.x[nodes_to_keep_mask],\n",
    "            edge_index=final_edge_index,\n",
    "            root_subhalo_id=graph.root_subhalo_id,\n",
    "            y=graph.y,\n",
    "        )\n",
    "\n",
    "        # recalculate edge attributes\n",
    "        if 'edge_attr' in graph:\n",
    "            trimmed_graph.edge_attr = (\n",
    "                trimmed_graph.x[final_edge_index[1], -1] -\n",
    "                trimmed_graph.x[final_edge_index[0], -1]\n",
    "            ).view(-1, 1)\n",
    "\n",
    "        trimmed_graphs.append(trimmed_graph)\n",
    "\n",
    "    return trimmed_graphs"
   ]
  },
  {
   "cell_type": "code",
   "execution_count": 45,
   "id": "266a0e73-076b-405c-ab47-2a4f86977957",
   "metadata": {},
   "outputs": [
    {
     "name": "stderr",
     "output_type": "stream",
     "text": [
      "100%|█████████████████████████████████████████████████████| 123004/123004 [04:53<00:00, 418.73it/s]\n"
     ]
    }
   ],
   "source": [
    "bonsais = trim_merger_trees(tree_data)"
   ]
  },
  {
   "cell_type": "code",
   "execution_count": 48,
   "id": "308bc7f6-9408-4bd8-82fd-136f7dca502c",
   "metadata": {},
   "outputs": [],
   "source": [
    "with open(RESULTS_DIR / \"merger_tree_bonsais.pkl\", \"wb\") as f:\n",
    "    pickle.dump(bonsais, f)"
   ]
  },
  {
   "cell_type": "markdown",
   "id": "e360fded-4510-490a-808f-19cb7fa93b30",
   "metadata": {},
   "source": [
    "# Merger Tree Stumps\n",
    "\n",
    "Only keep snapshots 90-99; maintain all secular evolution"
   ]
  },
  {
   "cell_type": "code",
   "execution_count": 7,
   "id": "0ab19ab1-891d-48f8-bd2a-3e7000b7c05c",
   "metadata": {},
   "outputs": [],
   "source": [
    "def create_stumps(graphs: List[Data], min_snap: int = 90, max_snap: int = 99) -> List[Data]:\n",
    "    \"\"\"\n",
    "    Hacks down merger trees to create \"stumps\" using the PyG subgraph utility.\n",
    "    \"\"\"\n",
    "    stump_data = []\n",
    "    for graph in tqdm.tqdm(graphs):\n",
    "        # keep nodes\n",
    "        snapshot_numbers = graph.x[:, -1]\n",
    "        node_mask = (snapshot_numbers >= min_snap) & (snapshot_numbers <= max_snap)\n",
    "        nodes_to_keep = node_mask.nonzero().squeeze(-1) # Get indices from mask\n",
    "\n",
    "        if nodes_to_keep.numel() == 0:\n",
    "            # empty graph if missing\n",
    "            empty_stump = Data(\n",
    "                x=torch.empty(0, graph.num_node_features),\n",
    "                edge_index=torch.empty(2, 0, dtype=torch.long),\n",
    "                y=graph.y, \n",
    "                root_subhalo_id=graph.root_subhalo_id,\n",
    "            )\n",
    "            stump_data.append(empty_stump)\n",
    "            continue\n",
    "            \n",
    "        # make subgraph; reindex and relabel nodes\n",
    "        stump_edge_index, stump_edge_attr = subgraph(\n",
    "            subset=nodes_to_keep,\n",
    "            edge_index=graph.edge_index,\n",
    "            edge_attr=getattr(graph, 'edge_attr', None),\n",
    "            relabel_nodes=True,\n",
    "            num_nodes=graph.num_nodes,\n",
    "        )\n",
    "\n",
    "        # save new Data\n",
    "        tree_stump = Data(\n",
    "            x=graph.x[nodes_to_keep], # Use indices to select node features\n",
    "            edge_index=stump_edge_index,\n",
    "            y=graph.y,\n",
    "            root_subhalo_id=graph.root_subhalo_id,\n",
    "        )\n",
    "        \n",
    "        if stump_edge_attr is not None:\n",
    "            tree_stump.edge_attr = stump_edge_attr\n",
    "\n",
    "        stump_data.append(tree_stump)\n",
    "\n",
    "    return stump_data"
   ]
  },
  {
   "cell_type": "code",
   "execution_count": 8,
   "id": "c4d2c314-287b-44ac-bc1f-2d20eca85119",
   "metadata": {},
   "outputs": [
    {
     "name": "stderr",
     "output_type": "stream",
     "text": [
      "100%|███████████████████████████████████████████████████| 123004/123004 [00:07<00:00, 15977.42it/s]\n"
     ]
    }
   ],
   "source": [
    "tree_stumps = create_stumps(tree_data)"
   ]
  },
  {
   "cell_type": "code",
   "execution_count": 16,
   "id": "1b5b5322-83ae-419f-8fe2-00e74d6cde4a",
   "metadata": {},
   "outputs": [],
   "source": [
    "with open(RESULTS_DIR / \"merger_tree_stumps.pkl\", \"wb\") as f:\n",
    "    pickle.dump(tree_stumps, f)"
   ]
  },
  {
   "cell_type": "markdown",
   "id": "fc99e6ba-e9a3-4b55-98ec-656cd6dc1f64",
   "metadata": {},
   "source": [
    "# Reload all"
   ]
  },
  {
   "cell_type": "code",
   "execution_count": 3,
   "id": "c3e15d78-9977-4f84-ba41-708890374f28",
   "metadata": {},
   "outputs": [],
   "source": [
    "subhalos = pd.read_parquet(RESULTS_DIR / \"subhalos.parquet\")\n",
    "\n",
    "with open(RESULTS_DIR / \"cosmic_graphs_3Mpc.pkl\", \"rb\") as f:\n",
    "    env_data = pickle.load(f)\n",
    "\n",
    "with open(RESULTS_DIR / \"merger_trees.pkl\", \"rb\") as f:\n",
    "    tree_data = pickle.load(f)\n",
    "\n",
    "# remove all secular evolution\n",
    "with open(RESULTS_DIR / \"merger_tree_bonsais.pkl\", \"rb\") as f:\n",
    "    bonsais = pickle.load(f)\n",
    "\n",
    "# snapshots 90-99\n",
    "with open(RESULTS_DIR / \"merger_tree_stumps.pkl\", \"rb\") as f:\n",
    "    stumps = pickle.load(f)"
   ]
  },
  {
   "cell_type": "code",
   "execution_count": 59,
   "id": "1fe08e7f-66f8-4160-a726-85361247cde5",
   "metadata": {},
   "outputs": [
    {
     "data": {
      "text/plain": [
       "Index(['halo_id_DMO', 'subhalo_flag_DMO', 'subhalo_id_DMO', 'subhalo_x_DMO',\n",
       "       'subhalo_y_DMO', 'subhalo_z_DMO', 'subhalo_vx_DMO', 'subhalo_vy_DMO',\n",
       "       'subhalo_vz_DMO', 'subhalo_n_stellar_particles_DMO',\n",
       "       'subhalo_MRhalf_DMO', 'subhalo_MRvmax_DMO', 'subhalo_MR2half_DMO',\n",
       "       'subhalo_RMhalf_DMO', 'subhalo_spin_DMO', 'subhalo_Vdisp_DMO',\n",
       "       'subhalo_VmaxRad_DMO', 'subhalo_offset_DMO', 'is_central_DMO',\n",
       "       'subhalo_logstellarmass_DMO', 'subhalo_loghalomass_DMO',\n",
       "       'subhalo_logvmax_DMO', 'subhalo_logstellarhalfmassradius_DMO',\n",
       "       'subhalo_loggasmass_DMO', 'halo_id', 'subhalo_id', 'subhalo_x',\n",
       "       'subhalo_y', 'subhalo_z', 'subhalo_vx', 'subhalo_vy', 'subhalo_vz',\n",
       "       'subhalo_n_stellar_particles', 'subhalo_MRhalf', 'subhalo_MRvmax',\n",
       "       'subhalo_MR2half', 'subhalo_RMhalf', 'subhalo_spin', 'subhalo_Vdisp',\n",
       "       'subhalo_VmaxRad', 'subhalo_offset', 'is_central',\n",
       "       'subhalo_l_halo_tree', 'subhalo_sublink', 'subhalo_gasmetallicity',\n",
       "       'subhalo_starmetallicity', 'subhalo_logstellarmass',\n",
       "       'subhalo_loghalomass', 'subhalo_logvmax',\n",
       "       'subhalo_logstellarhalfmassradius', 'subhalo_loggasmass',\n",
       "       'subhalo_logsfr'],\n",
       "      dtype='object')"
      ]
     },
     "execution_count": 59,
     "metadata": {},
     "output_type": "execute_result"
    }
   ],
   "source": [
    "subhalos.columns"
   ]
  },
  {
   "cell_type": "markdown",
   "id": "17562596-522b-461c-bf42-4f04928d44c3",
   "metadata": {},
   "source": [
    "# Visualize data"
   ]
  },
  {
   "cell_type": "markdown",
   "id": "f96b1149-1052-4279-81ae-184ff5a4fffa",
   "metadata": {},
   "source": [
    "## Double check stellar mass--halo mass relations"
   ]
  },
  {
   "cell_type": "code",
   "execution_count": 18,
   "id": "47c79d58-0512-402d-be5a-5122790a4e93",
   "metadata": {},
   "outputs": [
    {
     "data": {
      "text/plain": [
       "<Figure size 600x600 with 0 Axes>"
      ]
     },
     "metadata": {},
     "output_type": "display_data"
    }
   ],
   "source": [
    "plt.figure(figsize=(4,4), dpi=150)\n",
    "\n",
    "plt.scatter(env_data.x[:, 0], env_data.y[:, 0], s=1, edgecolors=\"none\", label=\"Env SHMR\")\n",
    "plt.scatter(*list(zip(*[(tree.x[0][0].item(), tree.y[0].item()) for tree in tree_data])), s=1, edgecolors=\"none\", label=\"Mergers SHMR\")\n",
    "plt.legend(markerscale=8)\n",
    "plt.xlabel(r\"log($M_{\\rm subhalo}/M_{\\odot}$)\", fontsize=14)\n",
    "plt.ylabel(r\"log($M_{\\bigstar}/M_{\\odot}$)\", fontsize=14)\n",
    "plt.grid(alpha=0.15)\n",
    "\n",
    "plt.text(0.95, 0.2, \"Centrals\", color=\"C3\", fontsize=16, transform=plt.gca().transAxes, ha=\"right\")\n",
    "plt.text(0.95, 0.1, \"Satellites\", color=\"C0\", fontsize=16, transform=plt.gca().transAxes, ha=\"right\")\n",
    "\n",
    "plt.clf()"
   ]
  },
  {
   "cell_type": "markdown",
   "id": "8078ac52-3b0f-4d7b-8d60-1f3287631a55",
   "metadata": {},
   "source": [
    "The point of the above: these are exactly on top of each other."
   ]
  },
  {
   "cell_type": "code",
   "execution_count": 40,
   "id": "738e7a44-3b3c-443d-82a8-11f5e84de3ee",
   "metadata": {},
   "outputs": [
    {
     "data": {
      "text/plain": [
       "<Figure size 1200x1200 with 0 Axes>"
      ]
     },
     "metadata": {},
     "output_type": "display_data"
    }
   ],
   "source": [
    "plt.figure(figsize=(4,4), dpi=300)\n",
    "\n",
    "plt.scatter(\n",
    "    env_data.x[:, 0].numpy(), \n",
    "    env_data.y[:, 0].numpy(), \n",
    "    c=np.where(env_data.is_central.numpy().flatten(), \"C3\", \"C0\"), \n",
    "    s=1,\n",
    "    edgecolors=\"none\",\n",
    "    rasterized=True\n",
    ")\n",
    "plt.xlabel(r\"log($M_{\\rm subhalo}/M_{\\odot}$)\", fontsize=14)\n",
    "plt.ylabel(r\"log($M_{\\bigstar}/M_{\\odot}$)\", fontsize=14)\n",
    "plt.grid(alpha=0.15)\n",
    "\n",
    "plt.text(0.95, 0.2, \"Centrals\", color=\"C3\", fontsize=16, transform=plt.gca().transAxes, ha=\"right\")\n",
    "plt.text(0.95, 0.1, \"Satellites\", color=\"C0\", fontsize=16, transform=plt.gca().transAxes, ha=\"right\")\n",
    "\n",
    "plt.savefig(RESULTS_DIR / \"figures/smhr.pdf\")\n",
    "\n",
    "plt.clf()"
   ]
  },
  {
   "cell_type": "markdown",
   "id": "49d8eb21-a6be-4198-aedd-1fe9505c49bd",
   "metadata": {},
   "source": [
    "## Plot merger tree"
   ]
  },
  {
   "cell_type": "code",
   "execution_count": 49,
   "id": "f21e5dc8-649b-4899-b059-944644397921",
   "metadata": {},
   "outputs": [
    {
     "data": {
      "text/plain": [
       "<Figure size 1800x2400 with 0 Axes>"
      ]
     },
     "metadata": {},
     "output_type": "display_data"
    }
   ],
   "source": [
    "tree = tree_data[100]\n",
    "\n",
    "plot_merger_tree(\n",
    "    tree, \n",
    "    save_figname=f\"tree_{tree.root_subhalo_id}\", \n",
    "    title=f\"Root Subhalo ID: {tree.root_subhalo_id}\",\n",
    "    vmax=11\n",
    ")\n",
    "\n",
    "plt.clf();"
   ]
  },
  {
   "cell_type": "code",
   "execution_count": 50,
   "id": "e54b7f39-fc68-491e-84c4-092fa9cfbd45",
   "metadata": {},
   "outputs": [
    {
     "data": {
      "text/plain": [
       "<Figure size 1800x2400 with 0 Axes>"
      ]
     },
     "metadata": {},
     "output_type": "display_data"
    }
   ],
   "source": [
    "ttree = trimmed_trees[100]\n",
    "\n",
    "plot_merger_tree(\n",
    "    ttree, \n",
    "    save_figname=f\"trimmed_tree_{ttree.root_subhalo_id}\", \n",
    "    title=f\"Root Subhalo ID: {ttree.root_subhalo_id} (trimmed)\",\n",
    "    vmax=11\n",
    ")\n",
    "\n",
    "plt.clf();"
   ]
  },
  {
   "cell_type": "code",
   "execution_count": 60,
   "id": "24103489-6522-4e0b-b275-b7a816768188",
   "metadata": {},
   "outputs": [
    {
     "data": {
      "text/plain": [
       "<Figure size 1800x2400 with 0 Axes>"
      ]
     },
     "metadata": {},
     "output_type": "display_data"
    }
   ],
   "source": [
    "tree_stump = tree_stumps[100]\n",
    "\n",
    "plot_merger_tree(\n",
    "    tree_stump, \n",
    "    save_figname=f\"tree_stump_{ttree.root_subhalo_id}\", \n",
    "    title=f\"Root Subhalo ID: {ttree.root_subhalo_id} (stump)\",\n",
    "    vmax=11\n",
    ")\n",
    "\n",
    "plt.clf();"
   ]
  },
  {
   "cell_type": "markdown",
   "id": "02fa3d9e-1bf1-478f-978c-e17937d26acd",
   "metadata": {},
   "source": [
    "## Plot env point cloud"
   ]
  },
  {
   "cell_type": "code",
   "execution_count": 24,
   "id": "eb104d72-43c5-4a71-bf6a-d2c3d4961e81",
   "metadata": {},
   "outputs": [],
   "source": [
    "from mpl_toolkits.mplot3d import Axes3D\n"
   ]
  },
  {
   "cell_type": "code",
   "execution_count": 26,
   "id": "a582ba6a-06a7-45df-9364-b1ad0b79b71a",
   "metadata": {},
   "outputs": [
    {
     "name": "stderr",
     "output_type": "stream",
     "text": [
      "/home/john/miniforge3/envs/pyg/lib/python3.11/site-packages/matplotlib/collections.py:996: RuntimeWarning: invalid value encountered in sqrt\n",
      "  scale = np.sqrt(self._sizes) * dpi / 72.0 * self._factor\n"
     ]
    },
    {
     "data": {
      "text/plain": [
       "<Figure size 1800x1500 with 0 Axes>"
      ]
     },
     "metadata": {},
     "output_type": "display_data"
    }
   ],
   "source": [
    "fig = plt.figure(figsize=(12, 10), dpi=150)\n",
    "ax = fig.add_subplot(111, projection='3d')\n",
    "sc = ax.scatter3D(\n",
    "    *env_data.pos.T.numpy(), \n",
    "    c=env_data.y[:, 0].numpy().flatten(), \n",
    "    s=(env_data.y[:, 0].numpy().flatten() - 8) ** 3, \n",
    "    vmin=8.5, \n",
    "    vmax=11,\n",
    "    cmap='magma',\n",
    "    rasterized=True\n",
    ")\n",
    "\n",
    "cb = plt.colorbar(sc, aspect=50, shrink=0.8)\n",
    "cb.set_label(r'log($M_{\\rm subhalo}/M_{\\odot}$)', fontsize=12)\n",
    "\n",
    "ax.set_xlabel('X [Mpc]', fontsize=12)\n",
    "ax.set_ylabel('Y [Mpc]', fontsize=12)\n",
    "ax.set_zlabel('Z [Mpc]', fontsize=12)\n",
    "ax.set_title('TNG Subhalos', fontsize=16)\n",
    "\n",
    "plt.savefig(RESULTS_DIR / \"figures/cosmic-graph.pdf\")\n",
    "\n",
    "plt.clf()"
   ]
  },
  {
   "cell_type": "code",
   "execution_count": null,
   "id": "8f836854-222d-48a4-8ba4-78cae7e02904",
   "metadata": {},
   "outputs": [],
   "source": []
  }
 ],
 "metadata": {
  "kernelspec": {
   "display_name": "Python [conda env:pyg]",
   "language": "python",
   "name": "conda-env-pyg-py"
  },
  "language_info": {
   "codemirror_mode": {
    "name": "ipython",
    "version": 3
   },
   "file_extension": ".py",
   "mimetype": "text/x-python",
   "name": "python",
   "nbconvert_exporter": "python",
   "pygments_lexer": "ipython3",
   "version": "3.11.8"
  }
 },
 "nbformat": 4,
 "nbformat_minor": 5
}
