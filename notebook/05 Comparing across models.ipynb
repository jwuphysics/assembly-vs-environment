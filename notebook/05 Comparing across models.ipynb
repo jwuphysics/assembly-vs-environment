{
 "cells": [
  {
   "cell_type": "code",
   "execution_count": 1,
   "id": "009d58f0-5917-429c-bc83-94de46a63239",
   "metadata": {},
   "outputs": [],
   "source": [
    "import sys\n",
    "sys.path.append(\"../src\")\n",
    "import matplotlib.pyplot as plt\n",
    "import numpy as np\n",
    "import pandas as pd\n",
    "from pathlib import Path\n",
    "import pickle\n",
    "import torch"
   ]
  },
  {
   "cell_type": "code",
   "execution_count": 2,
   "id": "d5645ac7-03af-4e8d-a1d9-9b5c6faf8c86",
   "metadata": {},
   "outputs": [],
   "source": [
    "BASE_DIR = Path(\"../\").resolve()\n",
    "RESULTS_DIR = BASE_DIR / \"results\"\n",
    "\n",
    "K_FOLDS = 3"
   ]
  },
  {
   "cell_type": "code",
   "execution_count": 3,
   "id": "ce94f76f-51a2-4473-a22b-778e78436485",
   "metadata": {},
   "outputs": [
    {
     "data": {
      "text/plain": [
       "123001"
      ]
     },
     "execution_count": 3,
     "metadata": {},
     "output_type": "execute_result"
    }
   ],
   "source": [
    "results = dict()\n",
    "\n",
    "for model in [\"mlp\", \"tree_gnn\", \"env_gnn\"]:\n",
    "    results[model] = pd.concat(\n",
    "        [pd.read_parquet(f\"{RESULTS_DIR}/predictions/{model}_fold_{k}.parquet\") for k in range(K_FOLDS)],\n",
    "        axis=0\n",
    "    )\n",
    "\n",
    "\n",
    "valid_subhalo_ids = list(set(results[\"env_gnn\"].index).intersection(results[\"tree_gnn\"].index))\n",
    "len(valid_subhalo_ids)"
   ]
  },
  {
   "cell_type": "code",
   "execution_count": 4,
   "id": "ea20acc2-43e3-47f7-83e6-eae6ee7fcd85",
   "metadata": {},
   "outputs": [
    {
     "name": "stdout",
     "output_type": "stream",
     "text": [
      "Index(['subhalo_id', 'log_Mstar_pred_mlp', 'log_Mstar_true_mlp',\n",
      "       'log_Mgas_pred_mlp', 'log_Mgas_true_mlp', 'is_central',\n",
      "       'log_Mstar_pred_tree_gnn', 'log_Mstar_true_tree_gnn',\n",
      "       'log_Mgas_pred_tree_gnn', 'log_Mgas_true_tree_gnn',\n",
      "       'log_Mstar_pred_env_gnn', 'log_Mstar_true_env_gnn',\n",
      "       'log_Mgas_pred_env_gnn', 'log_Mgas_true_env_gnn'],\n",
      "      dtype='object')\n"
     ]
    }
   ],
   "source": [
    "results_columns = [\"log_Mstar_pred\", \"log_Mstar_true\", \"log_Mgas_pred\", \"log_Mgas_true\"]\n",
    "\n",
    "df = (\n",
    "    results[\"mlp\"].loc[valid_subhalo_ids]\n",
    "    .reset_index()\n",
    "    .join(\n",
    "        results[\"tree_gnn\"].loc[valid_subhalo_ids][results_columns],\n",
    "        rsuffix=\"_tree_gnn\",\n",
    "        on=\"subhalo_id\",\n",
    "    ).join(\n",
    "        results[\"env_gnn\"].loc[valid_subhalo_ids][results_columns],\n",
    "        rsuffix=\"_env_gnn\",\n",
    "        on=\"subhalo_id\",\n",
    "    ).rename(\n",
    "        {col: f\"{col}_mlp\" for col in results_columns},\n",
    "        axis=1\n",
    "    )\n",
    ")\n",
    "\n",
    "print(df.columns)"
   ]
  },
  {
   "cell_type": "markdown",
   "id": "d301637b-b521-4bb7-a501-f3852bd78557",
   "metadata": {},
   "source": [
    "## Comparison figures"
   ]
  },
  {
   "cell_type": "code",
   "execution_count": 5,
   "id": "4d7dd02d-4cd9-44ff-9dc6-0860f5334da1",
   "metadata": {},
   "outputs": [],
   "source": [
    "from sklearn.metrics import r2_score, mean_absolute_error, root_mean_squared_error, median_absolute_error"
   ]
  },
  {
   "cell_type": "code",
   "execution_count": 6,
   "id": "0c9b082b-eb5f-4ed9-a86b-fe2680094336",
   "metadata": {},
   "outputs": [],
   "source": [
    "metrics_mapping = {\n",
    "    r\"$R^2$\": lambda p, y: r2_score(y, p, sample_weight=np.isfinite(y.values).nonzero()[0]),\n",
    "    r\"RMSE\": lambda p, y: root_mean_squared_error(p, y, sample_weight=np.isfinite(y.values).nonzero()[0]),\n",
    "    r\"MAE\":lambda p, y: mean_absolute_error(p, y, sample_weight=np.isfinite(y.values).nonzero()[0]),\n",
    "    r\"NMAD\": lambda p, y: 1.4826 * median_absolute_error(p, y, sample_weight=np.isfinite(y.values).nonzero()[0]),\n",
    "}"
   ]
  },
  {
   "cell_type": "code",
   "execution_count": 7,
   "id": "f32b8982-c841-4619-be5c-448e6563f9ea",
   "metadata": {},
   "outputs": [],
   "source": [
    "from easyquery import Query, QueryMaker"
   ]
  },
  {
   "cell_type": "code",
   "execution_count": 8,
   "id": "f02465ea-efeb-4ead-a180-57247a515a76",
   "metadata": {},
   "outputs": [],
   "source": [
    "min_stellar_mass = 8.5\n",
    "\n",
    "q_mlp = Query(\"is_central == 1\", f\"log_Mstar_true_mlp > {min_stellar_mass}\", QueryMaker.isfinite(\"log_Mgas_true_mlp\"))\n",
    "q_tree_gnn = Query(\"is_central == True\", f\"log_Mstar_true_tree_gnn > {min_stellar_mass}\", QueryMaker.isfinite(\"log_Mgas_true_tree_gnn\"))\n",
    "q_env_gnn = Query(\"is_central == 1\", f\"log_Mstar_true_env_gnn > {min_stellar_mass}\", QueryMaker.isfinite(\"log_Mgas_true_env_gnn\"))"
   ]
  },
  {
   "cell_type": "code",
   "execution_count": 9,
   "id": "421a5e56-e6a3-4b2b-9aa4-c7553ea1ce08",
   "metadata": {},
   "outputs": [
    {
     "name": "stdout",
     "output_type": "stream",
     "text": [
      "==========\n",
      "log_Mstar\n",
      "==========\n",
      "     mlp   $R^2$: 0.88877\n",
      "     mlp    RMSE: 0.25452\n",
      "     mlp     MAE: 0.18126\n",
      "     mlp    NMAD: 0.19503\n",
      "tree_gnn   $R^2$: 0.93452\n",
      "tree_gnn    RMSE: 0.19528\n",
      "tree_gnn     MAE: 0.14125\n",
      "tree_gnn    NMAD: 0.16165\n",
      " env_gnn   $R^2$: 0.92009\n",
      " env_gnn    RMSE: 0.21573\n",
      " env_gnn     MAE: 0.15263\n",
      " env_gnn    NMAD: 0.15982\n",
      "==========\n",
      "log_Mgas\n",
      "==========\n",
      "     mlp   $R^2$: 0.77372\n",
      "     mlp    RMSE: 0.27334\n",
      "     mlp     MAE: 0.17710\n",
      "     mlp    NMAD: 0.17751\n",
      "tree_gnn   $R^2$: 0.79492\n",
      "tree_gnn    RMSE: 0.26022\n",
      "tree_gnn     MAE: 0.17205\n",
      "tree_gnn    NMAD: 0.17773\n",
      " env_gnn   $R^2$: 0.85828\n",
      " env_gnn    RMSE: 0.21632\n",
      " env_gnn     MAE: 0.13518\n",
      " env_gnn    NMAD: 0.12437\n"
     ]
    }
   ],
   "source": [
    "for target in [\"log_Mstar\", \"log_Mgas\"]:\n",
    "    print(\"\".join([\"=\"]*10))\n",
    "    print(f\"{target}\")\n",
    "    print(\"\".join([\"=\"]*10))\n",
    "    for model, q in zip([\"mlp\", \"tree_gnn\", \"env_gnn\"], [q_mlp, q_tree_gnn, q_env_gnn]):\n",
    "        for metric, func in metrics_mapping.items():\n",
    "            filtered = q.filter(df)\n",
    "            score = func(filtered[f\"{target}_pred_{model}\"], filtered[f\"{target}_true_{model}\"])\n",
    "            print(f\"{model: >8s} {metric: >7s}: {score:.5f}\")"
   ]
  },
  {
   "cell_type": "markdown",
   "id": "4e883ac5-d964-41e0-9656-62d2e7cabe7c",
   "metadata": {},
   "source": [
    "# Pred vs True comparisons"
   ]
  },
  {
   "cell_type": "code",
   "execution_count": 10,
   "id": "457ce610-e91f-41d4-8b6f-3ed9032c2854",
   "metadata": {},
   "outputs": [],
   "source": [
    "import cmasher as cmr"
   ]
  },
  {
   "cell_type": "code",
   "execution_count": 11,
   "id": "4a94cc98-1b10-446c-b607-75f3e59c3a4b",
   "metadata": {},
   "outputs": [
    {
     "data": {
      "text/plain": [
       "<Figure size 3450x2400 with 0 Axes>"
      ]
     },
     "metadata": {},
     "output_type": "display_data"
    }
   ],
   "source": [
    "fig, axes = plt.subplots(2, 3, figsize=(11.5, 8), dpi=300, sharex=False, sharey=True)\n",
    "\n",
    "target_captions = {\n",
    "    \"log_Mstar\": r\"log($M_\\bigstar/M_\\odot$)\",\n",
    "    \"log_Mgas\": r\"log($M_{\\rm gas}/M_\\odot$)\",\n",
    "}\n",
    "\n",
    "model_captions = {\n",
    "    \"mlp\": \"Subhalo only: MLP\",\n",
    "    \"tree_gnn\": \"Merger tree: GNN\",\n",
    "    \"env_gnn\": \"Environment: GNN\"\n",
    "}\n",
    "\n",
    "for target, ax_row, cmap in zip(target_captions.keys(), axes, [cmr.torch_r, cmr.voltage_r]):\n",
    "    for model, q, ax in zip(model_captions.keys(), [q_mlp, q_tree_gnn, q_env_gnn], ax_row.flat):\n",
    "        p = q.filter(df)[f\"{target}_pred_{model}\"]\n",
    "        y = q.filter(df)[f\"{target}_true_{model}\"]\n",
    "        \n",
    "        # ax.scatter(y, p, s=5, alpha=0.15, color=cmap(0.7), linewidths=0, edgecolors=\"none\", rasterized=True)\n",
    "        ax.hist2d(y, p, bins=[70, 70], range=[(8,12), (8,12)], cmap=cmap, rasterized=True)\n",
    "\n",
    "        ax.plot([8, 12], [8, 12], ls='-', c='w', lw=0.9)\n",
    "        ax.plot([8, 12], [8, 12], ls='-', c='0.5', lw=0.1)\n",
    "\n",
    "        ax.text(0.03, 0.9, f\"{model_captions[model]}\", fontsize=16, ha=\"left\", transform=ax.transAxes)\n",
    "        ax.text(0.03, 0.8, f\"{target_captions[target]}\", fontsize=16, ha=\"left\", transform=ax.transAxes)\n",
    "\n",
    "        ax.set_xlim(8.5, 12)\n",
    "        ax.set_ylim(8.5, 12)\n",
    "        ax.set_xticks([9, 10, 11, 12], [9, 10, 11, 12])\n",
    "        ax.set_yticks([9, 10, 11, 12], [9, 10, 11, 12])\n",
    "        \n",
    "        ax.set_aspect(\"equal\")\n",
    "        ax.grid(alpha=0.15)\n",
    "        \n",
    "        for z, [metric, func] in enumerate(metrics_mapping.items()):\n",
    "            score = func(p, y)\n",
    "            ax.text(0.97, 0.08*(0.5 + z), f\"{metric: >7s} = {score:.3f}\", fontsize=12, ha=\"right\", transform=ax.transAxes)\n",
    "        \n",
    "        \n",
    "fig.subplots_adjust(wspace=0.075, hspace=0.2, left=0.075, right=0.975, top=0.975, bottom=0.075)\n",
    "\n",
    "axes[0][0].set_ylabel(r\"Pred log($M_\\bigstar/M_\\odot$)\", fontsize=12)\n",
    "axes[1][0].set_ylabel(r\"Pred log($M_{\\rm gas}/M_\\odot$)\", fontsize=12)\n",
    "\n",
    "axes[0][0].set_xlabel(r\"True log($M_\\bigstar/M_\\odot$)\", fontsize=12)\n",
    "axes[0][1].set_xlabel(r\"True log($M_\\bigstar/M_\\odot$)\", fontsize=12)\n",
    "axes[0][2].set_xlabel(r\"True log($M_\\bigstar/M_\\odot$)\", fontsize=12)\n",
    "\n",
    "axes[1][0].set_xlabel(r\"True log($M_{\\rm gas}/M_\\odot$)\", fontsize=12)\n",
    "axes[1][1].set_xlabel(r\"True log($M_{\\rm gas}/M_\\odot$)\", fontsize=12)\n",
    "axes[1][2].set_xlabel(r\"True log($M_{\\rm gas}/M_\\odot$)\", fontsize=12)\n",
    "\n",
    "plt.savefig(RESULTS_DIR / \"figures/results_pred-vs-true.pdf\")\n",
    "\n",
    "plt.clf()"
   ]
  },
  {
   "cell_type": "markdown",
   "id": "2a4294cc-f1d8-443f-bb15-c4de13588123",
   "metadata": {},
   "source": [
    "# Training curves"
   ]
  },
  {
   "cell_type": "code",
   "execution_count": 12,
   "id": "66465b37-1e95-4c7f-9a17-f064101f433e",
   "metadata": {},
   "outputs": [
    {
     "data": {
      "text/plain": [
       "<Figure size 3600x1200 with 0 Axes>"
      ]
     },
     "metadata": {},
     "output_type": "display_data"
    }
   ],
   "source": [
    "fig, axes = plt.subplots(1, 3, figsize=(12, 4), dpi=300, sharex=False, sharey=True)\n",
    "\n",
    "\n",
    "for model, ax in zip(model_captions.keys(), axes):\n",
    "    for k, c in enumerate(cmr.torch_r([0.3, 0.5, 0.7])):\n",
    "        log_file = RESULTS_DIR / f\"logs/{model}_fold_{k}.txt\"\n",
    "        losses = pd.read_csv(log_file)\n",
    "        \n",
    "        ax.plot(losses[\"valid_RMSE\"], c=c)\n",
    "    \n",
    "    \n",
    "    ax.text(0.97, 0.9, f\"{model_captions[model]}\", fontsize=16, ha=\"right\", transform=ax.transAxes)\n",
    "\n",
    "    ax.set_ylim(0.27, 0.45)\n",
    "\n",
    "    ax.grid(alpha=0.15)\n",
    "        \n",
    "fig.subplots_adjust(wspace=0.075, hspace=0.2, left=0.075, right=0.975, top=0.975, bottom=0.125)\n",
    "\n",
    "axes[0].text(0.05, 0.20, f\"Fold 1\", color=cmr.torch_r(0.3), fontsize=16, ha=\"left\", transform=axes[0].transAxes)\n",
    "axes[0].text(0.05, 0.12, f\"Fold 2\", color=cmr.torch_r(0.5), fontsize=16, ha=\"left\", transform=axes[0].transAxes)\n",
    "axes[0].text(0.05, 0.04, f\"Fold 3\", color=cmr.torch_r(0.7), fontsize=16, ha=\"left\", transform=axes[0].transAxes)\n",
    "\n",
    "axes[0].set_ylabel(r\"Avg Validation RMSE [dex]\", fontsize=12)\n",
    "axes[0].set_xlabel(r\"Epoch\", fontsize=12)\n",
    "axes[1].set_xlabel(r\"Epoch\", fontsize=12)\n",
    "axes[2].set_xlabel(r\"Epoch\", fontsize=12)\n",
    "\n",
    "plt.savefig(RESULTS_DIR / \"figures/results_validation-rmse-curves.pdf\")\n",
    "\n",
    "plt.clf()"
   ]
  },
  {
   "cell_type": "code",
   "execution_count": null,
   "id": "137977c8-921e-434c-a8ee-33048a095b02",
   "metadata": {},
   "outputs": [],
   "source": []
  }
 ],
 "metadata": {
  "kernelspec": {
   "display_name": "Python [conda env:pyg]",
   "language": "python",
   "name": "conda-env-pyg-py"
  },
  "language_info": {
   "codemirror_mode": {
    "name": "ipython",
    "version": 3
   },
   "file_extension": ".py",
   "mimetype": "text/x-python",
   "name": "python",
   "nbconvert_exporter": "python",
   "pygments_lexer": "ipython3",
   "version": "3.11.8"
  }
 },
 "nbformat": 4,
 "nbformat_minor": 5
}
