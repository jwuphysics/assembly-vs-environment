{
 "cells": [
  {
   "cell_type": "code",
   "execution_count": 58,
   "metadata": {},
   "outputs": [],
   "source": [
    "import h5py\n",
    "\n",
    "data = h5py.File(\"/home/john/research/illustris/TNG100-1/files/sublink/tree_extended.0.hdf5\")"
   ]
  },
  {
   "cell_type": "code",
   "execution_count": 52,
   "metadata": {},
   "outputs": [
    {
     "data": {
      "text/plain": [
       "['DescendantID',\n",
       " 'FirstProgenitorID',\n",
       " 'FirstSubhaloInFOFGroupID',\n",
       " 'GroupCM',\n",
       " 'GroupFirstSub',\n",
       " 'GroupLen',\n",
       " 'GroupLenType',\n",
       " 'GroupMass',\n",
       " 'GroupMassType',\n",
       " 'GroupNsubs',\n",
       " 'GroupPos',\n",
       " 'GroupVel',\n",
       " 'Group_M_Crit200',\n",
       " 'Group_M_Crit500',\n",
       " 'Group_M_Mean200',\n",
       " 'Group_M_TopHat200',\n",
       " 'Group_R_Crit200',\n",
       " 'Group_R_Crit500',\n",
       " 'Group_R_Mean200',\n",
       " 'Group_R_TopHat200',\n",
       " 'LastProgenitorID',\n",
       " 'MainLeafProgenitorID',\n",
       " 'Mass',\n",
       " 'MassHistory',\n",
       " 'NextProgenitorID',\n",
       " 'NextSubhaloInFOFGroupID',\n",
       " 'NumParticles',\n",
       " 'RootDescendantID',\n",
       " 'SnapNum',\n",
       " 'SubfindID',\n",
       " 'SubhaloCM',\n",
       " 'SubhaloGrNr',\n",
       " 'SubhaloHalfmassRad',\n",
       " 'SubhaloHalfmassRadType',\n",
       " 'SubhaloID',\n",
       " 'SubhaloIDMostbound',\n",
       " 'SubhaloIDRaw',\n",
       " 'SubhaloLen',\n",
       " 'SubhaloLenType',\n",
       " 'SubhaloMass',\n",
       " 'SubhaloMassInHalfRad',\n",
       " 'SubhaloMassInHalfRadType',\n",
       " 'SubhaloMassInMaxRad',\n",
       " 'SubhaloMassInMaxRadType',\n",
       " 'SubhaloMassInRad',\n",
       " 'SubhaloMassInRadType',\n",
       " 'SubhaloMassType',\n",
       " 'SubhaloParent',\n",
       " 'SubhaloPos',\n",
       " 'SubhaloSpin',\n",
       " 'SubhaloVel',\n",
       " 'SubhaloVelDisp',\n",
       " 'SubhaloVmax',\n",
       " 'SubhaloVmaxRad',\n",
       " 'TreeID']"
      ]
     },
     "execution_count": 52,
     "metadata": {},
     "output_type": "execute_result"
    }
   ],
   "source": [
    "list(data.keys())"
   ]
  },
  {
   "cell_type": "code",
   "execution_count": 48,
   "metadata": {},
   "outputs": [],
   "source": []
  },
  {
   "cell_type": "code",
   "execution_count": null,
   "metadata": {},
   "outputs": [],
   "source": []
  },
  {
   "cell_type": "code",
   "execution_count": 10,
   "metadata": {},
   "outputs": [
    {
     "name": "stdout",
     "output_type": "stream",
     "text": [
      "(63497677,)\n",
      "(63497677,)\n"
     ]
    }
   ],
   "source": [
    "ids = data[\"SubhaloID\"][:]\n",
    "print(ids.shape)\n",
    "print(np.unique(ids).shape)"
   ]
  },
  {
   "cell_type": "code",
   "execution_count": 12,
   "metadata": {},
   "outputs": [
    {
     "data": {
      "text/plain": [
       "(array([      -1,        0,        1, ..., 63497671, 63497672, 63497675]),\n",
       " array([818979,   1527,    660, ...,      1,      1,      1]))"
      ]
     },
     "execution_count": 12,
     "metadata": {},
     "output_type": "execute_result"
    }
   ],
   "source": [
    "descendent = data[\"DescendantID\"][:]\n",
    "np.unique(descendent, return_counts=True)\n"
   ]
  },
  {
   "cell_type": "code",
   "execution_count": 21,
   "metadata": {},
   "outputs": [],
   "source": [
    "root_halos = descendent == -1\n",
    "\n",
    "root_halo_masses = np.log10(data[\"SubhaloMass\"][root_halos]) + 10"
   ]
  },
  {
   "cell_type": "code",
   "execution_count": 16,
   "metadata": {},
   "outputs": [],
   "source": [
    "import matplotlib.pyplot as plt"
   ]
  },
  {
   "cell_type": "code",
   "execution_count": 22,
   "metadata": {},
   "outputs": [
    {
     "data": {
      "image/png": "[encoded data removed]",
      "text/plain": [
       "<Figure size 640x480 with 1 Axes>"
      ]
     },
     "metadata": {},
     "output_type": "display_data"
    }
   ],
   "source": [
    "plt.hist(\n",
    "    root_halo_masses,\n",
    "    log=True,\n",
    "    bins=50, range=[8, 15]\n",
    ");"
   ]
  },
  {
   "cell_type": "code",
   "execution_count": 37,
   "metadata": {},
   "outputs": [
    {
     "data": {
      "text/plain": [
       "0.014371552872540078"
      ]
     },
     "execution_count": 37,
     "metadata": {},
     "output_type": "execute_result"
    }
   ],
   "source": [
    "(root_halo_masses > 10).mean()"
   ]
  },
  {
   "cell_type": "code",
   "execution_count": 40,
   "metadata": {},
   "outputs": [
    {
     "data": {
      "text/plain": [
       "(818979,)"
      ]
     },
     "execution_count": 40,
     "metadata": {},
     "output_type": "execute_result"
    }
   ],
   "source": [
    "root_halo_masses.shape"
   ]
  },
  {
   "cell_type": "code",
   "execution_count": 36,
   "metadata": {},
   "outputs": [
    {
     "name": "stdout",
     "output_type": "stream",
     "text": [
      "[       0   902888  1001533 ... 63497671 63497674 63497675]\n"
     ]
    }
   ],
   "source": [
    "root_descendent_id = data[\"RootDescendantID\"][:]\n",
    "print(np.unique(root_descendent_id))"
   ]
  },
  {
   "cell_type": "code",
   "execution_count": 28,
   "metadata": {},
   "outputs": [
    {
     "data": {
      "text/plain": [
       "array([ 59551,  43844,  58938, ...,  32810, 545884, 136195], dtype=int32)"
      ]
     },
     "execution_count": 28,
     "metadata": {},
     "output_type": "execute_result"
    }
   ],
   "source": [
    "data[\"SubfindID\"][:]"
   ]
  },
  {
   "cell_type": "code",
   "execution_count": 29,
   "metadata": {},
   "outputs": [
    {
     "data": {
      "text/plain": [
       "array([0, 0, 0, ..., 0, 0, 0])"
      ]
     },
     "execution_count": 29,
     "metadata": {},
     "output_type": "execute_result"
    }
   ],
   "source": [
    "data[\"TreeID\"][:]"
   ]
  },
  {
   "cell_type": "code",
   "execution_count": 45,
   "metadata": {},
   "outputs": [
    {
     "data": {
      "text/plain": [
       "[<matplotlib.lines.Line2D at 0x7fc0432cd480>]"
      ]
     },
     "execution_count": 45,
     "metadata": {},
     "output_type": "execute_result"
    },
    {
     "data": {
      "image/png": "[encoded data removed]",
      "text/plain": [
       "<Figure size 640x480 with 1 Axes>"
      ]
     },
     "metadata": {},
     "output_type": "display_data"
    }
   ],
   "source": [
    "# pick random root and get all progesnitors\n",
    "RANDOM_ROOT_ID = 902888\n",
    "\n",
    "# how many subhalos in each snapshot\n",
    "plt.plot(\n",
    "    *np.unique(\n",
    "        data[\"SnapNum\"][root_descendent_id == RANDOM_ROOT_ID],\n",
    "        return_counts=True\n",
    "    )\n",
    ")\n",
    "\n",
    "# how many massive subhalos (10^9 Msun)\n",
    "plt.plot(\n",
    "    *np.unique(\n",
    "        data[\"SnapNum\"][(root_descendent_id == RANDOM_ROOT_ID) & (data[\"SubhaloMass\"][:] > 0.1)],\n",
    "        return_counts=True\n",
    "    )\n",
    ")"
   ]
  },
  {
   "cell_type": "code",
   "execution_count": null,
   "metadata": {},
   "outputs": [],
   "source": []
  }
 ],
 "metadata": {
  "kernelspec": {
   "display_name": "pyg",
   "language": "python",
   "name": "python3"
  },
  "language_info": {
   "codemirror_mode": {
    "name": "ipython",
    "version": 3
   },
   "file_extension": ".py",
   "mimetype": "text/x-python",
   "name": "python",
   "nbconvert_exporter": "python",
   "pygments_lexer": "ipython3",
   "version": "3.10.8"
  }
 },
 "nbformat": 4,
 "nbformat_minor": 2
}
