{
 "cells": [
  {
   "cell_type": "code",
   "execution_count": 1,
   "id": "009d58f0-5917-429c-bc83-94de46a63239",
   "metadata": {},
   "outputs": [],
   "source": [
    "import sys\n",
    "sys.path.append(\"../src\")\n",
    "import matplotlib.pyplot as plt\n",
    "import numpy as np\n",
    "import pandas as pd\n",
    "from pathlib import Path\n",
    "import pickle\n",
    "import torch\n",
    "import cmasher as cmr\n",
    "\n",
    "from sklearn.metrics import r2_score, mean_absolute_error, root_mean_squared_error, median_absolute_error\n",
    "from easyquery import Query, QueryMaker\n",
    "\n",
    "USE_FULL_TREE = True\n",
    "\n",
    "tree_model = \"tree_gnn\" if USE_FULL_TREE else \"bstree_gnn\""
   ]
  },
  {
   "cell_type": "code",
   "execution_count": 2,
   "id": "d5645ac7-03af-4e8d-a1d9-9b5c6faf8c86",
   "metadata": {},
   "outputs": [],
   "source": [
    "BASE_DIR = Path(\"../\").resolve()\n",
    "RESULTS_DIR = BASE_DIR / \"results\"\n",
    "\n",
    "K_FOLDS = 3"
   ]
  },
  {
   "cell_type": "code",
   "execution_count": 3,
   "id": "02309b50-70eb-4770-ad4e-bc869b211b2a",
   "metadata": {},
   "outputs": [],
   "source": [
    "if \"results-mhalo-vmax\" in str(RESULTS_DIR):\n",
    "    columns = ['subhalo_id_DMO', 'subhalo_loghalomass_DMO', 'subhalo_logvmax_DMO']\n",
    "else:\n",
    "    columns = [\n",
    "        'subhalo_id_DMO', 'subhalo_loghalomass_DMO', 'subhalo_logvmax_DMO', \n",
    "        'subhalo_spin_DMO', 'subhalo_Vdisp_DMO', 'subhalo_VmaxRad_DMO',\n",
    "        'subhalo_MRvmax_DMO', 'subhalo_RMhalf_DMO',  # 'subhalo_MRhalf_DMO', 'subhalo_MR2half_DMO' <- not present for trees\n",
    "        'subhalo_x_DMO', 'subhalo_y_DMO', 'subhalo_z_DMO', \n",
    "        'subhalo_vx_DMO', 'subhalo_vy_DMO', 'subhalo_vz_DMO'\n",
    "    ]\n",
    "subhalos = pd.read_parquet(RESULTS_DIR / \"subhalos.parquet\", columns=columns)\n",
    "subhalos = subhalos.rename({c: c.strip(\"_DMO\") for c in subhalos.columns}, axis=1).set_index(\"subhalo_id\")"
   ]
  },
  {
   "cell_type": "code",
   "execution_count": 4,
   "id": "ce94f76f-51a2-4473-a22b-778e78436485",
   "metadata": {},
   "outputs": [
    {
     "data": {
      "text/plain": [
       "122993"
      ]
     },
     "execution_count": 4,
     "metadata": {},
     "output_type": "execute_result"
    }
   ],
   "source": [
    "results = dict()\n",
    "\n",
    "\n",
    "for model in [\"mlp\", tree_model, \"env_gnn\", \"tree_residual_gnn\"]:\n",
    "    results[model] = pd.concat(\n",
    "        [pd.read_parquet(f\"{RESULTS_DIR}/predictions/{model}_fold_{k}.parquet\") for k in range(K_FOLDS)],\n",
    "        axis=0\n",
    "    )\n",
    "\n",
    "# include k folds\n",
    "results['mlp']['k_fold'] = np.concatenate([\n",
    "    np.full(pd.read_parquet(f\"{RESULTS_DIR}/predictions/mlp_fold_{k}.parquet\").shape[0], k) \n",
    "    for k in range(K_FOLDS)\n",
    "])\n",
    "\n",
    "results['mlp'] = results['mlp'].reset_index().join(subhalos, on=\"subhalo_id\", how=\"inner\").set_index(\"subhalo_id\")\n",
    "\n",
    "valid_subhalo_ids = list(set(results[\"env_gnn\"].index).intersection(results[tree_model].index).intersection(results['mlp'].index))\n",
    "len(valid_subhalo_ids)"
   ]
  },
  {
   "cell_type": "code",
   "execution_count": 30,
   "id": "ea20acc2-43e3-47f7-83e6-eae6ee7fcd85",
   "metadata": {
    "scrolled": true
   },
   "outputs": [
    {
     "name": "stdout",
     "output_type": "stream",
     "text": [
      "Index(['subhalo_id', 'log_Mstar_pred_mlp', 'log_Mstar_true_mlp',\n",
      "       'log_Mgas_pred_mlp', 'log_Mgas_true_mlp', 'is_central', 'k_fold',\n",
      "       'subhalo_loghalomass', 'subhalo_logvmax', 'subhalo_spin',\n",
      "       'subhalo_Vdisp', 'subhalo_VmaxRad', 'subhalo_MRvmax', 'subhalo_RMhalf',\n",
      "       'subhalo_x', 'subhalo_y', 'subhalo_z', 'subhalo_vx', 'subhalo_vy',\n",
      "       'subhalo_vz', 'log_Mstar_pred_tree_gnn', 'log_Mstar_true_tree_gnn',\n",
      "       'log_Mgas_pred_tree_gnn', 'log_Mgas_true_tree_gnn',\n",
      "       'log_Mstar_pred_tree_residual_gnn', 'log_Mstar_true_tree_residual_gnn',\n",
      "       'log_Mgas_pred_tree_residual_gnn', 'log_Mgas_true_tree_residual_gnn',\n",
      "       'log_Mstar_pred_env_gnn', 'log_Mstar_true_env_gnn',\n",
      "       'log_Mgas_pred_env_gnn', 'log_Mgas_true_env_gnn'],\n",
      "      dtype='object')\n"
     ]
    }
   ],
   "source": [
    "results_columns = [\"log_Mstar_pred\", \"log_Mstar_true\", \"log_Mgas_pred\", \"log_Mgas_true\"]\n",
    "\n",
    "df = (\n",
    "    results[\"mlp\"].loc[valid_subhalo_ids]\n",
    "    .reset_index()\n",
    "    .join(\n",
    "        results[tree_model].loc[valid_subhalo_ids][results_columns],\n",
    "        rsuffix=\"_tree_gnn\",\n",
    "        on=\"subhalo_id\",\n",
    "    )\n",
    "    .join(\n",
    "        results[\"tree_residual_gnn\"].loc[valid_subhalo_ids][results_columns],\n",
    "        rsuffix=\"_tree_residual_gnn\",\n",
    "        on=\"subhalo_id\",\n",
    "    )\n",
    "    .join(\n",
    "        results[\"env_gnn\"].loc[valid_subhalo_ids][results_columns],\n",
    "        rsuffix=\"_env_gnn\",\n",
    "        on=\"subhalo_id\",\n",
    "    ).rename(\n",
    "        {col: f\"{col}_mlp\" for col in results_columns},\n",
    "        axis=1\n",
    "    )\n",
    ")\n",
    "\n",
    "print(df.columns)"
   ]
  },
  {
   "cell_type": "code",
   "execution_count": 32,
   "id": "fa66e840-c32b-4215-87d3-13a44d13414d",
   "metadata": {},
   "outputs": [],
   "source": [
    "# update residual predictions based on the env_gnn base model\n",
    "for col in [\"log_Mstar\", \"log_Mgas\"]:\n",
    "    df[f\"{col}_pred_tree_residual_gnn\"] += df[f\"{col}_pred_env_gnn\"]\n",
    "    df[f\"{col}_true_tree_residual_gnn\"] = df[f\"{col}_true_env_gnn\"]"
   ]
  },
  {
   "cell_type": "code",
   "execution_count": 33,
   "id": "c0401bd7-d52f-47dd-866c-6569dcb8e4db",
   "metadata": {},
   "outputs": [],
   "source": [
    "df.to_csv(RESULTS_DIR / \"predictions/tng-results_compiled.csv\", index=False)"
   ]
  },
  {
   "cell_type": "code",
   "execution_count": 34,
   "id": "f6dd0f16-6a23-4357-a16e-7f4f97c809f1",
   "metadata": {},
   "outputs": [
    {
     "data": {
      "text/plain": [
       "27617"
      ]
     },
     "execution_count": 34,
     "metadata": {},
     "output_type": "execute_result"
    }
   ],
   "source": [
    "Query(\"log_Mstar_true_mlp > 8.5\").count(df)"
   ]
  },
  {
   "cell_type": "markdown",
   "id": "d301637b-b521-4bb7-a501-f3852bd78557",
   "metadata": {},
   "source": [
    "## Comparison figures"
   ]
  },
  {
   "cell_type": "code",
   "execution_count": 36,
   "id": "0c9b082b-eb5f-4ed9-a86b-fe2680094336",
   "metadata": {},
   "outputs": [],
   "source": [
    "metrics_mapping = {\n",
    "    r\"$R^2$\": lambda p, y: r2_score(y, p, sample_weight=np.isfinite(y.values).nonzero()[0]),\n",
    "    r\"RMSE\": lambda p, y: root_mean_squared_error(p, y, sample_weight=np.isfinite(y.values).nonzero()[0]),\n",
    "    r\"MAE\":lambda p, y: mean_absolute_error(p, y, sample_weight=np.isfinite(y.values).nonzero()[0]),\n",
    "    r\"NMAD\": lambda p, y: 1.4826 * median_absolute_error(p, y, sample_weight=np.isfinite(y.values).nonzero()[0]),\n",
    "    r\"Bias\": lambda p, y: np.average(p - y, weights=np.isfinite(y.values).nonzero()[0])\n",
    "}"
   ]
  },
  {
   "cell_type": "code",
   "execution_count": 48,
   "id": "f02465ea-efeb-4ead-a180-57247a515a76",
   "metadata": {},
   "outputs": [],
   "source": [
    "min_stellar_mass = 8.5\n",
    "\n",
    "q_mlp = Query(\"is_central == 1\", f\"log_Mstar_true_mlp > {min_stellar_mass}\", QueryMaker.isfinite(\"log_Mgas_true_mlp\"))\n",
    "q_tree_gnn = Query(\"is_central == True\", f\"log_Mstar_true_tree_gnn > {min_stellar_mass}\", QueryMaker.isfinite(\"log_Mgas_true_tree_gnn\"))\n",
    "q_residual_gnn = Query(\"is_central == True\", f\"log_Mstar_true_tree_residual_gnn > {min_stellar_mass}\", QueryMaker.isfinite(\"log_Mstar_true_tree_residual_gnn\"), QueryMaker.isfinite(\"log_Mgas_true_env_gnn\"))\n",
    "q_env_gnn = Query(\"is_central == 1\", f\"log_Mstar_true_env_gnn > {min_stellar_mass}\", QueryMaker.isfinite(\"log_Mgas_true_env_gnn\"))"
   ]
  },
  {
   "cell_type": "code",
   "execution_count": 53,
   "id": "bcca050a-cce9-47d1-9e2a-3aeb83c0839e",
   "metadata": {},
   "outputs": [
    {
     "data": {
      "text/plain": [
       "(26465, 26465, 26465, 26465)"
      ]
     },
     "execution_count": 53,
     "metadata": {},
     "output_type": "execute_result"
    }
   ],
   "source": [
    "q_mlp.count(df), q_tree_gnn.count(df), q_residual_gnn.count(df), q_env_gnn.count(df)"
   ]
  },
  {
   "cell_type": "code",
   "execution_count": 49,
   "id": "f6293121-1045-4f3a-866c-016707e07c6f",
   "metadata": {},
   "outputs": [
    {
     "name": "stdout",
     "output_type": "stream",
     "text": [
      "==========\n",
      "log_Mstar\n",
      "==========\n",
      "     mlp   $R^2$: $0.9258 \\pm 0.0071$\n",
      "     mlp    RMSE: $0.2259 \\pm 0.0083$\n",
      "     mlp     MAE: $0.1622 \\pm 0.0068$\n",
      "     mlp    NMAD: $0.1740 \\pm 0.0065$\n",
      "     mlp    Bias: $-0.0786 \\pm 0.0245$\n",
      "tree_gnn   $R^2$: $0.9406 \\pm 0.0048$\n",
      "tree_gnn    RMSE: $0.2021 \\pm 0.0069$\n",
      "tree_gnn     MAE: $0.1506 \\pm 0.0063$\n",
      "tree_gnn    NMAD: $0.1698 \\pm 0.0106$\n",
      "tree_gnn    Bias: $-0.0788 \\pm 0.0208$\n",
      " env_gnn   $R^2$: $0.9478 \\pm 0.0011$\n",
      " env_gnn    RMSE: $0.1897 \\pm 0.0009$\n",
      " env_gnn     MAE: $0.1397 \\pm 0.0008$\n",
      " env_gnn    NMAD: $0.1556 \\pm 0.0015$\n",
      " env_gnn    Bias: $-0.0507 \\pm 0.0100$\n",
      "tree_residual_gnn   $R^2$: $0.9466 \\pm 0.0031$\n",
      "tree_residual_gnn    RMSE: $0.1918 \\pm 0.0037$\n",
      "tree_residual_gnn     MAE: $0.1482 \\pm 0.0033$\n",
      "tree_residual_gnn    NMAD: $0.1774 \\pm 0.0037$\n",
      "tree_residual_gnn    Bias: $0.0640 \\pm 0.0073$\n",
      "==========\n",
      "log_Mgas\n",
      "==========\n",
      "     mlp   $R^2$: $0.8488 \\pm 0.0184$\n",
      "     mlp    RMSE: $0.2268 \\pm 0.0165$\n",
      "     mlp     MAE: $0.1504 \\pm 0.0159$\n",
      "     mlp    NMAD: $0.1664 \\pm 0.0268$\n",
      "     mlp    Bias: $-0.0540 \\pm 0.0195$\n",
      "tree_gnn   $R^2$: $0.8321 \\pm 0.0120$\n",
      "tree_gnn    RMSE: $0.2391 \\pm 0.0113$\n",
      "tree_gnn     MAE: $0.1483 \\pm 0.0097$\n",
      "tree_gnn    NMAD: $0.1393 \\pm 0.0086$\n",
      "tree_gnn    Bias: $0.0066 \\pm 0.0298$\n",
      " env_gnn   $R^2$: $0.9094 \\pm 0.0196$\n",
      " env_gnn    RMSE: $0.1749 \\pm 0.0170$\n",
      " env_gnn     MAE: $0.1066 \\pm 0.0071$\n",
      " env_gnn    NMAD: $0.1012 \\pm 0.0090$\n",
      " env_gnn    Bias: $-0.0160 \\pm 0.0157$\n",
      "tree_residual_gnn   $R^2$: $0.8499 \\pm 0.0397$\n",
      "tree_residual_gnn    RMSE: $0.2246 \\pm 0.0253$\n",
      "tree_residual_gnn     MAE: $0.1434 \\pm 0.0166$\n",
      "tree_residual_gnn    NMAD: $0.1453 \\pm 0.0238$\n",
      "tree_residual_gnn    Bias: $0.1067 \\pm 0.0227$\n"
     ]
    }
   ],
   "source": [
    "# avg & error -- weighted by number of samples\n",
    "for target in [\"log_Mstar\", \"log_Mgas\"]:\n",
    "    print(\"\".join([\"=\"]*10))\n",
    "    print(f\"{target}\")\n",
    "    print(\"\".join([\"=\"]*10))\n",
    "    for model, q in zip([\"mlp\", \"tree_gnn\", \"env_gnn\", \"tree_residual_gnn\"], [q_mlp, q_tree_gnn, q_env_gnn, q_residual_gnn]):\n",
    "        for metric, func in metrics_mapping.items():\n",
    "            scores = []\n",
    "            weights = []\n",
    "            for k in range(3):\n",
    "                qk = Query(f\"k_fold == {k}\")\n",
    "                filtered = (qk & q).filter(df)\n",
    "                scores.append(func(filtered[f\"{target}_pred_{model}\"], filtered[f\"{target}_true_{model}\"]))\n",
    "                weights.append(len(filtered))   \n",
    "            avg_weighted = np.average(scores, weights=weights)\n",
    "            std_weighted = np.sqrt(np.cov(scores, aweights=weights))\n",
    "\n",
    "            print(f\"{model: >8s} {metric: >7s}: ${avg_weighted:.4f} \\pm {std_weighted:.4f}$\")"
   ]
  },
  {
   "cell_type": "code",
   "execution_count": 50,
   "id": "2927f8c9-61be-409d-a00f-f257e2f55a8f",
   "metadata": {},
   "outputs": [],
   "source": [
    "# # overall means (weighted by complete sample)\n",
    "# for target in [\"log_Mstar\", \"log_Mgas\"]:\n",
    "#     print(\"\".join([\"=\"]*10))\n",
    "#     print(f\"{target}\")\n",
    "#     print(\"\".join([\"=\"]*10))\n",
    "#     for model, q in zip([\"mlp\", \"tree_gnn\", \"env_gnn\"], [q_mlp, q_tree_gnn, q_env_gnn]):\n",
    "#         for metric, func in metrics_mapping.items():\n",
    "#             filtered = q.filter(df)\n",
    "#             score = func(filtered[f\"{target}_pred_{model}\"], filtered[f\"{target}_true_{model}\"])\n",
    "#             print(f\"{model: >8s} {metric: >7s}: {score:.5f}\")"
   ]
  },
  {
   "cell_type": "markdown",
   "id": "4e883ac5-d964-41e0-9656-62d2e7cabe7c",
   "metadata": {},
   "source": [
    "# Pred vs True comparisons"
   ]
  },
  {
   "cell_type": "code",
   "execution_count": 45,
   "id": "4a94cc98-1b10-446c-b607-75f3e59c3a4b",
   "metadata": {},
   "outputs": [
    {
     "data": {
      "text/plain": [
       "<Figure size 4350x2400 with 0 Axes>"
      ]
     },
     "metadata": {},
     "output_type": "display_data"
    }
   ],
   "source": [
    "fig, axes = plt.subplots(2, 4, figsize=(14.5, 8), dpi=300, sharex=False, sharey=True)\n",
    "\n",
    "target_captions = {\n",
    "    \"log_Mstar\": r\"log($M_\\bigstar/M_\\odot$)\",\n",
    "    \"log_Mgas\": r\"log($M_{\\rm gas}/M_\\odot$)\",\n",
    "}\n",
    "\n",
    "model_captions = {\n",
    "    \"mlp\": \"Subhalo only: MLP\",\n",
    "    \"tree_gnn\": \"Merger tree: GNN\",\n",
    "    \"env_gnn\": \"Environment: GNN\",\n",
    "    \"tree_residual_gnn\": \"Residual Tree + Env: GNN\"\n",
    "}\n",
    "\n",
    "for target, ax_row, cmap in zip(target_captions.keys(), axes, [cmr.torch_r, cmr.voltage_r]):\n",
    "    for model, q, ax in zip(model_captions.keys(), [q_mlp, q_tree_gnn, q_env_gnn, q_residual_gnn], ax_row.flat):\n",
    "        p = q.filter(df)[f\"{target}_pred_{model}\"]\n",
    "        y = q.filter(df)[f\"{target}_true_{model}\"]\n",
    "        \n",
    "        # ax.scatter(y, p, s=5, alpha=0.15, color=cmap(0.7), linewidths=0, edgecolors=\"none\", rasterized=True)\n",
    "        ax.hist2d(y, p, bins=[70, 70], range=[(8,12), (8,12)], cmap=cmap, rasterized=True)\n",
    "\n",
    "        ax.plot([8, 12], [8, 12], ls='-', c='w', lw=0.9)\n",
    "        ax.plot([8, 12], [8, 12], ls='-', c='0.5', lw=0.1)\n",
    "\n",
    "        ax.text(0.03, 0.9, f\"{model_captions[model]}\", fontsize=16, ha=\"left\", transform=ax.transAxes)\n",
    "        ax.text(0.03, 0.8, f\"{target_captions[target]}\", fontsize=16, ha=\"left\", transform=ax.transAxes)\n",
    "\n",
    "        ax.set_xlim(8.5, 12)\n",
    "        ax.set_ylim(8.5, 12)\n",
    "        ax.set_xticks([9, 10, 11, 12], [9, 10, 11, 12])\n",
    "        ax.set_yticks([9, 10, 11, 12], [9, 10, 11, 12])\n",
    "        \n",
    "        ax.set_aspect(\"equal\")\n",
    "        ax.grid(alpha=0.15)\n",
    "        \n",
    "        for z, [metric, func] in enumerate(metrics_mapping.items()):\n",
    "            score = func(p, y)\n",
    "            ax.text(0.97, 0.08*(0.5 + z), f\"{metric: >7s} = {score:.3f}\", fontsize=12, ha=\"right\", transform=ax.transAxes)\n",
    "        \n",
    "        \n",
    "fig.subplots_adjust(wspace=0.075, hspace=0.2, left=0.075, right=0.975, top=0.975, bottom=0.075)\n",
    "\n",
    "axes[0][0].set_ylabel(r\"Pred log($M_\\bigstar/M_\\odot$)\", fontsize=12)\n",
    "axes[1][0].set_ylabel(r\"Pred log($M_{\\rm gas}/M_\\odot$)\", fontsize=12)\n",
    "\n",
    "axes[0][0].set_xlabel(r\"True log($M_\\bigstar/M_\\odot$)\", fontsize=12)\n",
    "axes[0][1].set_xlabel(r\"True log($M_\\bigstar/M_\\odot$)\", fontsize=12)\n",
    "axes[0][2].set_xlabel(r\"True log($M_\\bigstar/M_\\odot$)\", fontsize=12)\n",
    "\n",
    "axes[1][0].set_xlabel(r\"True log($M_{\\rm gas}/M_\\odot$)\", fontsize=12)\n",
    "axes[1][1].set_xlabel(r\"True log($M_{\\rm gas}/M_\\odot$)\", fontsize=12)\n",
    "axes[1][2].set_xlabel(r\"True log($M_{\\rm gas}/M_\\odot$)\", fontsize=12)\n",
    "\n",
    "plt.savefig(RESULTS_DIR / \"figures/results_pred-vs-true.pdf\")\n",
    "\n",
    "plt.clf()"
   ]
  },
  {
   "cell_type": "markdown",
   "id": "2a4294cc-f1d8-443f-bb15-c4de13588123",
   "metadata": {},
   "source": [
    "# Training curves"
   ]
  },
  {
   "cell_type": "code",
   "execution_count": 14,
   "id": "66465b37-1e95-4c7f-9a17-f064101f433e",
   "metadata": {},
   "outputs": [
    {
     "data": {
      "text/plain": [
       "<Figure size 3600x1200 with 0 Axes>"
      ]
     },
     "metadata": {},
     "output_type": "display_data"
    }
   ],
   "source": [
    "fig, axes = plt.subplots(1, 3, figsize=(12, 4), dpi=300, sharex=False, sharey=True)\n",
    "\n",
    "\n",
    "for model, ax in zip(model_captions.keys(), axes):\n",
    "    for k, c in enumerate(cmr.torch_r([0.3, 0.5, 0.7])):\n",
    "        log_file = RESULTS_DIR / f\"logs/{model}_fold_{k}.txt\"\n",
    "        losses = pd.read_csv(log_file)\n",
    "        \n",
    "        ax.plot(losses[\"valid_RMSE\"], c=c)\n",
    "    \n",
    "    \n",
    "    ax.text(0.97, 0.9, f\"{model_captions[model]}\", fontsize=16, ha=\"right\", transform=ax.transAxes)\n",
    "\n",
    "    ax.set_ylim(0.19, 0.41)\n",
    "    ax.set_yticks([0.2, 0.25, 0.30, 0.35, 0.40])\n",
    "\n",
    "    ax.grid(alpha=0.15)\n",
    "        \n",
    "fig.subplots_adjust(wspace=0.075, hspace=0.2, left=0.075, right=0.975, top=0.975, bottom=0.125)\n",
    "\n",
    "axes[0].text(0.05, 0.20, f\"Fold 1\", color=cmr.torch_r(0.3), fontsize=16, ha=\"left\", transform=axes[0].transAxes)\n",
    "axes[0].text(0.05, 0.12, f\"Fold 2\", color=cmr.torch_r(0.5), fontsize=16, ha=\"left\", transform=axes[0].transAxes)\n",
    "axes[0].text(0.05, 0.04, f\"Fold 3\", color=cmr.torch_r(0.7), fontsize=16, ha=\"left\", transform=axes[0].transAxes)\n",
    "\n",
    "axes[0].set_ylabel(r\"Avg Validation RMSE [dex]\", fontsize=12)\n",
    "axes[0].set_xlabel(r\"Epoch\", fontsize=12)\n",
    "axes[1].set_xlabel(r\"Epoch\", fontsize=12)\n",
    "axes[2].set_xlabel(r\"Epoch\", fontsize=12)\n",
    "\n",
    "plt.savefig(RESULTS_DIR / \"figures/results_validation-rmse-curves.pdf\")\n",
    "\n",
    "plt.clf()"
   ]
  },
  {
   "cell_type": "markdown",
   "id": "6ae6d32a-816d-4e5b-9420-7ad0584b91ff",
   "metadata": {},
   "source": []
  }
 ],
 "metadata": {
  "kernelspec": {
   "display_name": "Python [conda env:pyg]",
   "language": "python",
   "name": "conda-env-pyg-py"
  },
  "language_info": {
   "codemirror_mode": {
    "name": "ipython",
    "version": 3
   },
   "file_extension": ".py",
   "mimetype": "text/x-python",
   "name": "python",
   "nbconvert_exporter": "python",
   "pygments_lexer": "ipython3",
   "version": "3.11.8"
  }
 },
 "nbformat": 4,
 "nbformat_minor": 5
}
